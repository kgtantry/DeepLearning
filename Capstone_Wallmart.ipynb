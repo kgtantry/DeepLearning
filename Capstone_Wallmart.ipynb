{
  "nbformat": 4,
  "nbformat_minor": 0,
  "metadata": {
    "colab": {
      "provenance": [],
      "authorship_tag": "ABX9TyNhL08bb7KpQp6Sh1GMdH52",
      "include_colab_link": true
    },
    "kernelspec": {
      "name": "python3",
      "display_name": "Python 3"
    },
    "language_info": {
      "name": "python"
    }
  },
  "cells": [
    {
      "cell_type": "markdown",
      "metadata": {
        "id": "view-in-github",
        "colab_type": "text"
      },
      "source": [
        "<a href=\"https://colab.research.google.com/github/kgtantry/DeepLearning/blob/main/Capstone_Wallmart.ipynb\" target=\"_parent\"><img src=\"https://colab.research.google.com/assets/colab-badge.svg\" alt=\"Open In Colab\"/></a>"
      ]
    },
    {
      "cell_type": "code",
      "execution_count": null,
      "metadata": {
        "id": "_Hj71z6GPX6-"
      },
      "outputs": [],
      "source": []
    },
    {
      "cell_type": "markdown",
      "source": [
        "Problem Statement\n",
        "\n",
        "A retail store that has multiple outlets across the country are facing issues in managing the\n",
        "inventory - to match the demand with respect to supply. You are a data scientist, who has to\n",
        "come up with useful insights using the data and make prediction models to forecast the sales for\n",
        "X number of months/years."
      ],
      "metadata": {
        "id": "grzj-p-EPbLt"
      }
    },
    {
      "cell_type": "code",
      "source": [
        "Exploratory Data Analysis"
      ],
      "metadata": {
        "id": "DkQ9v4BAP67r"
      },
      "execution_count": null,
      "outputs": []
    },
    {
      "cell_type": "code",
      "source": [
        "import pandas as pd\n",
        "import numpy as np\n",
        "import "
      ],
      "metadata": {
        "id": "2eCxTIewPsiB"
      },
      "execution_count": null,
      "outputs": []
    }
  ]
}