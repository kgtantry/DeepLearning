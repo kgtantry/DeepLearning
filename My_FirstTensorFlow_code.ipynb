{
  "nbformat": 4,
  "nbformat_minor": 0,
  "metadata": {
    "colab": {
      "provenance": [],
      "authorship_tag": "ABX9TyNSA6fk3IMdw8gLKn2cMakZ",
      "include_colab_link": true
    },
    "kernelspec": {
      "name": "python3",
      "display_name": "Python 3"
    },
    "language_info": {
      "name": "python"
    }
  },
  "cells": [
    {
      "cell_type": "markdown",
      "metadata": {
        "id": "view-in-github",
        "colab_type": "text"
      },
      "source": [
        "<a href=\"https://colab.research.google.com/github/kgtantry/DeepLearning/blob/main/My_FirstTensorFlow_code.ipynb\" target=\"_parent\"><img src=\"https://colab.research.google.com/assets/colab-badge.svg\" alt=\"Open In Colab\"/></a>"
      ]
    },
    {
      "cell_type": "code",
      "execution_count": 1,
      "metadata": {
        "id": "fn6_QqRIBieh"
      },
      "outputs": [],
      "source": [
        "# My first TensorFlow code\n",
        "\n",
        "import pandas as pd\n",
        "import numpy as np\n",
        "import matplotlib.pyplot as plt\n",
        "import tensorflow as tf\n"
      ]
    },
    {
      "cell_type": "code",
      "source": [
        "# Generate random input of size (100,2)\n",
        "\n",
        "xs = np.random.uniform(-10,10,size=(100,1))\n",
        "zs = np.random.uniform(-10,10,size=(100,1))\n",
        "\n",
        "generated_inputs = np.column_stack((xs,zs))"
      ],
      "metadata": {
        "id": "LwZHAhdeBvcW"
      },
      "execution_count": 18,
      "outputs": []
    },
    {
      "cell_type": "code",
      "source": [
        "# Generate random noise \n",
        "noise = np.random.uniform(-1,1,size=(100,1))\n",
        "\n",
        "# Intended output\n",
        "generated_targets = 3*xs - 5*zs +7 + noise\n"
      ],
      "metadata": {
        "id": "_NVMy6lSCEwk"
      },
      "execution_count": 20,
      "outputs": []
    },
    {
      "cell_type": "code",
      "source": [
        "# Create Sequential model\n",
        "\n",
        "input_size = 2\n",
        "output_size = 1\n",
        "model = tf.keras.Sequential(tf.keras.layers.Dense(output_size))"
      ],
      "metadata": {
        "id": "XCb5tOLfCGtO"
      },
      "execution_count": 24,
      "outputs": []
    },
    {
      "cell_type": "code",
      "source": [
        "# Link optimization function\n",
        "\n",
        "model.compile(optimizer=\"sgd\", loss=\"mean_squared_error\")"
      ],
      "metadata": {
        "id": "2cCoKrbTCsZT"
      },
      "execution_count": 25,
      "outputs": []
    },
    {
      "cell_type": "code",
      "source": [
        "# Fit the model with the data\n",
        "\n",
        "model.fit(generated_inputs, generated_targets, epochs=1000, verbose=0)"
      ],
      "metadata": {
        "colab": {
          "base_uri": "https://localhost:8080/"
        },
        "id": "NV-HzewpD9si",
        "outputId": "7279713e-8bf6-4cfc-c9a3-14d1cb104e8a"
      },
      "execution_count": 34,
      "outputs": [
        {
          "output_type": "execute_result",
          "data": {
            "text/plain": [
              "<keras.callbacks.History at 0x7f4cd0313fd0>"
            ]
          },
          "metadata": {},
          "execution_count": 34
        }
      ]
    },
    {
      "cell_type": "code",
      "source": [
        "# Find out the wieghts and biases\n",
        "\n",
        "weights = model.layers[0].get_weights()[0]\n",
        "bias = model.layers[0].get_weights()[1]\n",
        "\n",
        "print(f'Weights:{weights}')\n",
        "print(f'Biases:{bias}')"
      ],
      "metadata": {
        "colab": {
          "base_uri": "https://localhost:8080/"
        },
        "id": "mjfd9CcBEnTa",
        "outputId": "675d04cf-ef22-4f52-9700-1b42aa517e94"
      },
      "execution_count": 35,
      "outputs": [
        {
          "output_type": "stream",
          "name": "stdout",
          "text": [
            "Weights:[[ 2.9557078]\n",
            " [-4.9833665]]\n",
            "Biases:[6.9475756]\n"
          ]
        }
      ]
    },
    {
      "cell_type": "code",
      "source": [
        "# Predict using the model\n",
        "model.predict_on_batch(generated_inputs).round(1)"
      ],
      "metadata": {
        "colab": {
          "base_uri": "https://localhost:8080/"
        },
        "id": "oxtnFnyXHfzd",
        "outputId": "f8cda15d-1549-4187-86eb-3c6d0ca0c48e"
      },
      "execution_count": 36,
      "outputs": [
        {
          "output_type": "execute_result",
          "data": {
            "text/plain": [
              "array([[-67. ],\n",
              "       [ 18.4],\n",
              "       [ -9.7],\n",
              "       [ -7.3],\n",
              "       [-34.5],\n",
              "       [ -3. ],\n",
              "       [-34.5],\n",
              "       [ 25.8],\n",
              "       [ 27.2],\n",
              "       [ 31. ],\n",
              "       [ -1.9],\n",
              "       [ 39.5],\n",
              "       [ 60.2],\n",
              "       [-14.2],\n",
              "       [-12.3],\n",
              "       [  3.4],\n",
              "       [  6.1],\n",
              "       [ 58.5],\n",
              "       [ 24.5],\n",
              "       [ 16.3],\n",
              "       [  5.8],\n",
              "       [ 41.4],\n",
              "       [-32.9],\n",
              "       [-28.1],\n",
              "       [-34.6],\n",
              "       [ 28.5],\n",
              "       [ 47.2],\n",
              "       [ 14. ],\n",
              "       [-22.5],\n",
              "       [ 74.8],\n",
              "       [ 47. ],\n",
              "       [ -6.7],\n",
              "       [ 38.7],\n",
              "       [ 45.7],\n",
              "       [ -3.4],\n",
              "       [ -9.1],\n",
              "       [-60.8],\n",
              "       [ 23.9],\n",
              "       [ 17.3],\n",
              "       [-59.7],\n",
              "       [ 51.6],\n",
              "       [ -5.1],\n",
              "       [ 12.5],\n",
              "       [-25.3],\n",
              "       [ -3.9],\n",
              "       [ 35.6],\n",
              "       [  9.2],\n",
              "       [ 23.4],\n",
              "       [ 46.8],\n",
              "       [ 62.9],\n",
              "       [ 47.5],\n",
              "       [-19.4],\n",
              "       [ 60. ],\n",
              "       [-16.7],\n",
              "       [-15.2],\n",
              "       [ 26.9],\n",
              "       [-17. ],\n",
              "       [ 66.7],\n",
              "       [-18. ],\n",
              "       [ -1.4],\n",
              "       [ 37.1],\n",
              "       [-21.9],\n",
              "       [-47.9],\n",
              "       [ 20.1],\n",
              "       [ 23.3],\n",
              "       [ 39.1],\n",
              "       [-15.9],\n",
              "       [ 12.8],\n",
              "       [-30.4],\n",
              "       [-18.2],\n",
              "       [ 42. ],\n",
              "       [-19.5],\n",
              "       [ 11.4],\n",
              "       [ -1.9],\n",
              "       [ 18.3],\n",
              "       [ 83.7],\n",
              "       [ 27.4],\n",
              "       [ -1.9],\n",
              "       [-44. ],\n",
              "       [ 51.9],\n",
              "       [-23.4],\n",
              "       [-17.1],\n",
              "       [  6.4],\n",
              "       [ 17.5],\n",
              "       [ 18.9],\n",
              "       [  6. ],\n",
              "       [ 42.6],\n",
              "       [-63. ],\n",
              "       [-26.9],\n",
              "       [-10.2],\n",
              "       [ 10.2],\n",
              "       [ -4.2],\n",
              "       [-17. ],\n",
              "       [ 30.4],\n",
              "       [-49.2],\n",
              "       [ 38.6],\n",
              "       [-22.3],\n",
              "       [ 14.6],\n",
              "       [ 74.8],\n",
              "       [ 19.9]], dtype=float32)"
            ]
          },
          "metadata": {},
          "execution_count": 36
        }
      ]
    },
    {
      "cell_type": "code",
      "source": [
        "# compare with the intended target values\n",
        "generated_targets.round(1)"
      ],
      "metadata": {
        "colab": {
          "base_uri": "https://localhost:8080/"
        },
        "id": "O43QFCbvH-xM",
        "outputId": "6a1c4523-d461-4d25-91dd-08325eff0c5b"
      },
      "execution_count": 33,
      "outputs": [
        {
          "output_type": "execute_result",
          "data": {
            "text/plain": [
              "array([[-67. ],\n",
              "       [ 18.1],\n",
              "       [ -9.1],\n",
              "       [ -8.2],\n",
              "       [-35.7],\n",
              "       [ -3.3],\n",
              "       [-35.5],\n",
              "       [ 26.5],\n",
              "       [ 27.1],\n",
              "       [ 30.5],\n",
              "       [ -0.7],\n",
              "       [ 40.2],\n",
              "       [ 60.2],\n",
              "       [-13.3],\n",
              "       [-11.7],\n",
              "       [  2.7],\n",
              "       [  6.4],\n",
              "       [ 58.7],\n",
              "       [ 25.1],\n",
              "       [ 16.6],\n",
              "       [  5.5],\n",
              "       [ 41.9],\n",
              "       [-32.7],\n",
              "       [-27.4],\n",
              "       [-35.7],\n",
              "       [ 29.3],\n",
              "       [ 47.5],\n",
              "       [ 13.1],\n",
              "       [-22.5],\n",
              "       [ 74.8],\n",
              "       [ 47. ],\n",
              "       [ -6.9],\n",
              "       [ 39.2],\n",
              "       [ 45.1],\n",
              "       [ -2.8],\n",
              "       [ -7.9],\n",
              "       [-60.5],\n",
              "       [ 25. ],\n",
              "       [ 16.2],\n",
              "       [-59.2],\n",
              "       [ 51.5],\n",
              "       [ -4.3],\n",
              "       [ 12. ],\n",
              "       [-25.3],\n",
              "       [ -3.8],\n",
              "       [ 35.7],\n",
              "       [  8.3],\n",
              "       [ 23.6],\n",
              "       [ 46.4],\n",
              "       [ 63.8],\n",
              "       [ 47. ],\n",
              "       [-20.7],\n",
              "       [ 59.4],\n",
              "       [-16. ],\n",
              "       [-15.6],\n",
              "       [ 26.1],\n",
              "       [-16.6],\n",
              "       [ 68.1],\n",
              "       [-18.6],\n",
              "       [ -1.8],\n",
              "       [ 36.4],\n",
              "       [-21.8],\n",
              "       [-48.1],\n",
              "       [ 20.7],\n",
              "       [ 22.5],\n",
              "       [ 39.9],\n",
              "       [-15.4],\n",
              "       [ 12.5],\n",
              "       [-29.9],\n",
              "       [-19.1],\n",
              "       [ 42.1],\n",
              "       [-20.4],\n",
              "       [ 12.1],\n",
              "       [ -2. ],\n",
              "       [ 19.4],\n",
              "       [ 83.8],\n",
              "       [ 27.2],\n",
              "       [ -1.4],\n",
              "       [-44.2],\n",
              "       [ 52.7],\n",
              "       [-23.1],\n",
              "       [-16.5],\n",
              "       [  6.5],\n",
              "       [ 17.6],\n",
              "       [ 18.6],\n",
              "       [  5. ],\n",
              "       [ 42.7],\n",
              "       [-62.8],\n",
              "       [-27.1],\n",
              "       [-10.6],\n",
              "       [ 10.8],\n",
              "       [ -4.8],\n",
              "       [-17.8],\n",
              "       [ 30.1],\n",
              "       [-50.1],\n",
              "       [ 39.5],\n",
              "       [-22.9],\n",
              "       [ 14.4],\n",
              "       [ 75. ],\n",
              "       [ 20.8]])"
            ]
          },
          "metadata": {},
          "execution_count": 33
        }
      ]
    },
    {
      "cell_type": "code",
      "source": [],
      "metadata": {
        "id": "DQ9Ugs6SIGG8"
      },
      "execution_count": null,
      "outputs": []
    }
  ]
}